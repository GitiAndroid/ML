{
 "cells": [
  {
   "cell_type": "code",
   "execution_count": 1,
   "metadata": {},
   "outputs": [
    {
     "name": "stdout",
     "output_type": "stream",
     "text": [
      "(10, 25, 1, 1),(10, 9, 1, 1)\n",
      "(10, 9, 1, 1),(10, 9, 1, 1)\n",
      "(10, 5, 1, 1),(10, 2, 1, 1)\n",
      "[31745.865 61018.977 45946.15  40620.508 11373.252 44603.633 39088.582\n",
      " 36481.902 42415.496 18195.086]\n",
      "[63491.73      0.    91892.3   81241.016 22746.504 89207.266     0.\n",
      " 72963.805 84830.99  36390.17 ]\n"
     ]
    }
   ],
   "source": [
    "import tensorflow as tf\n",
    "x = tf.Variable(tf.random_normal([10,50,1,1],stddev=10)*100)\n",
    "W1 = tf.Variable(tf.random_normal([3,3,1,1],stddev=10)*100)\n",
    "\n",
    "conv_var1 = tf.nn.conv2d(x,W1,strides=[1,2,2,1],padding='SAME')\n",
    "\n",
    "relu_var1 = tf.nn.relu(conv_var1)\n",
    "\n",
    "pool_var1 = tf.nn.max_pool(relu_var1,ksize=[1,3,3,1],strides=[1,3,3,1],padding='SAME')\n",
    "\n",
    "W2 = tf.Variable(tf.random_normal([3,3,1,1],stddev=0.01))\n",
    "\n",
    "conv_var2 = tf.nn.conv2d(pool_var1,W2,strides=[1,1,1,1],padding='SAME')\n",
    "relu_var2 = tf.nn.relu(conv_var1)\n",
    "pool_var2 = tf.nn.max_pool(relu_var2,ksize=[1,3,3,1],strides=[1,3,3,1],padding='SAME')\n",
    "\n",
    "W3 = tf.Variable(tf.random_normal([3,3,1,1],stddev=0.01))\n",
    "\n",
    "conv_var3 = tf.nn.conv2d(pool_var2,W3,strides=[1,2,2,1],padding='SAME')\n",
    "relu_var3 = tf.nn.relu(conv_var3)\n",
    "pool_var3 = tf.nn.max_pool(relu_var3,ksize=[1,3,3,1],strides=[1,3,3,1],padding='SAME')\n",
    "\n",
    "\n",
    "sess = tf.Session()\n",
    "sess.run(tf.global_variables_initializer())\n",
    "sess.run(pool_var3)\n",
    "\n",
    "print(\"%s,%s\"%(conv_var1.shape,pool_var1.shape))\n",
    "print(\"%s,%s\"%(conv_var2.shape,pool_var2.shape))\n",
    "print(\"%s,%s\"%(conv_var3.shape,pool_var3.shape))\n",
    "print(sess.run(pool_var3[:,0,0,0]))\n",
    "\n",
    "dropout = 0.5\n",
    "dropout_var = tf.nn.dropout(pool_var3,dropout)\n",
    "print(sess.run(dropout_var[:,0,0,0]))\n"
   ]
  },
  {
   "cell_type": "code",
   "execution_count": null,
   "metadata": {},
   "outputs": [],
   "source": []
  }
 ],
 "metadata": {
  "kernelspec": {
   "display_name": "Python 3",
   "language": "python",
   "name": "python3"
  },
  "language_info": {
   "codemirror_mode": {
    "name": "ipython",
    "version": 3
   },
   "file_extension": ".py",
   "mimetype": "text/x-python",
   "name": "python",
   "nbconvert_exporter": "python",
   "pygments_lexer": "ipython3",
   "version": "3.5.2"
  }
 },
 "nbformat": 4,
 "nbformat_minor": 2
}
