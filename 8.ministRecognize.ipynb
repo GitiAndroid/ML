{
 "cells": [
  {
   "cell_type": "code",
   "execution_count": 4,
   "metadata": {},
   "outputs": [
    {
     "name": "stdout",
     "output_type": "stream",
     "text": [
      "Extracting ./MNIST_data/train-images-idx3-ubyte.gz\n",
      "Extracting ./MNIST_data/train-labels-idx1-ubyte.gz\n",
      "Extracting ./MNIST_data/t10k-images-idx3-ubyte.gz\n",
      "Extracting ./MNIST_data/t10k-labels-idx1-ubyte.gz\n",
      "loss: 2.302585\n",
      "accuracy: 0.0700\n",
      "loss: 0.465992\n",
      "accuracy: 0.9000\n",
      "loss: 0.484633\n",
      "accuracy: 0.8600\n",
      "loss: 0.366243\n",
      "accuracy: 0.9200\n",
      "loss: 0.364927\n",
      "accuracy: 0.9100\n",
      "loss: 0.185476\n",
      "accuracy: 0.9600\n",
      "loss: 0.353196\n",
      "accuracy: 0.8900\n",
      "loss: 0.382700\n",
      "accuracy: 0.8600\n",
      "loss: 0.294374\n",
      "accuracy: 0.9200\n",
      "loss: 0.522714\n",
      "accuracy: 0.8500\n",
      "loss: 0.408139\n",
      "accuracy: 0.8900\n",
      "loss: 0.291976\n",
      "accuracy: 0.9000\n",
      "loss: 0.348033\n",
      "accuracy: 0.9100\n",
      "loss: 0.384485\n",
      "accuracy: 0.9000\n",
      "loss: 0.238302\n",
      "accuracy: 0.9300\n",
      "loss: 0.330735\n",
      "accuracy: 0.9000\n",
      "loss: 0.308966\n",
      "accuracy: 0.9300\n",
      "loss: 0.213190\n",
      "accuracy: 0.9400\n",
      "loss: 0.320050\n",
      "accuracy: 0.9400\n",
      "loss: 0.293813\n",
      "accuracy: 0.9200\n"
     ]
    }
   ],
   "source": [
    "import tensorflow as tf\n",
    "from tensorflow.examples.tutorials.mnist import input_data\n",
    "import numpy as np\n",
    "#载入数据集\n",
    "mnist = input_data.read_data_sets(\"./MNIST_data\", one_hot=True)\n",
    "#占位符\n",
    "x = tf.placeholder(tf.float32,[None, 784])\n",
    "y_ = tf.placeholder(tf.float32,[None, 10])\n",
    "#初始化权重和偏置变量\n",
    "W = tf.Variable(tf.zeros([784, 10]))\n",
    "b = tf.Variable(tf.zeros([10]))\n",
    "y = tf.nn.softmax(tf.matmul(x,W)+b)\n",
    "cross_entropy = tf.reduce_mean(-tf.reduce_sum(y_ * tf.log(y), reduction_indices=[1]))\n",
    "train_step = tf.train.GradientDescentOptimizer(0.5).minimize(cross_entropy)\n",
    "#求准确率\n",
    "correct_prediction = tf.equal(tf.argmax(y,1),tf.argmax(y_,1))\n",
    "accuracy = tf.reduce_mean(tf.cast(correct_prediction, tf.float32))\n",
    "#开始训练\n",
    "sess = tf.Session()\n",
    "sess.run(tf.global_variables_initializer())\n",
    " \n",
    "for i in range(1000):\n",
    "    batch_xs, batch_ys = mnist.train.next_batch(100)\n",
    "    _, loss , acc= sess.run([train_step, cross_entropy, accuracy], feed_dict = {x: batch_xs, y_: batch_ys})\n",
    "    if i%50 == 0:\n",
    "        print('loss: %f' % loss)\n",
    "        print('accuracy: %.4f' % acc)\n"
   ]
  },
  {
   "cell_type": "code",
   "execution_count": null,
   "metadata": {},
   "outputs": [],
   "source": []
  }
 ],
 "metadata": {
  "kernelspec": {
   "display_name": "Python 3",
   "language": "python",
   "name": "python3"
  },
  "language_info": {
   "codemirror_mode": {
    "name": "ipython",
    "version": 3
   },
   "file_extension": ".py",
   "mimetype": "text/x-python",
   "name": "python",
   "nbconvert_exporter": "python",
   "pygments_lexer": "ipython3",
   "version": "3.5.2"
  }
 },
 "nbformat": 4,
 "nbformat_minor": 2
}
